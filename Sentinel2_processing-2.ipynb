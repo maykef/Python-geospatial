{
 "cells": [
  {
   "cell_type": "markdown",
   "metadata": {},
   "source": [
    "\n",
    "# Processing data example using **Rasterio**, **geopandas** and **earthpy** libraires\n",
    "\n",
    "* This notebook was developed by the Earth Lab of Colorado University for their Earth Analytics Python course. We have reproduced most of it here, with small modifications for the purpose of analysing new data. \n",
    "* This notebook opens the data downloaded using the **Data Downloader notebook**\n",
    "* If you are just opening the notebook, please make sure your bucket is mounted and the imagery can be accessed.\n",
    "* Remember to change the quantity of bands and combinations if you are working with imagery other than Sentinel 2."
   ]
  },
  {
   "cell_type": "code",
   "execution_count": null,
   "metadata": {},
   "outputs": [],
   "source": [
    "import os\n",
    "\n",
    "import earthpy as et\n",
    "import earthpy.plot as ep\n",
    "import earthpy.spatial as es\n",
    "import geopandas as gpd\n",
    "import matplotlib as mpl\n",
    "import matplotlib.pyplot as plt\n",
    "import numpy as np\n",
    "import rasterio as rio\n",
    "from IPython.display import clear_output\n",
    "\n",
    "clear_output(wait=True)"
   ]
  },
  {
   "cell_type": "code",
   "execution_count": null,
   "metadata": {},
   "outputs": [],
   "source": [
    "## Here we get the data from mount, which hosts the bucket where we transferred our data\n",
    "with rio.open(\"mount/Caracas_All_Bands.tif\") as src:\n",
    "    naip_csf = src.read()\n",
    "    naip_csf_meta = src.meta"
   ]
  },
  {
   "cell_type": "code",
   "execution_count": null,
   "metadata": {},
   "outputs": [],
   "source": [
    "naip_csf_meta"
   ]
  },
  {
   "cell_type": "code",
   "execution_count": null,
   "metadata": {},
   "outputs": [],
   "source": [
    "naip_csf.shape"
   ]
  },
  {
   "cell_type": "code",
   "execution_count": null,
   "metadata": {},
   "outputs": [],
   "source": [
    "fig, ax = plt.subplots()\n",
    "ax.imshow(naip_csf[0], cmap=\"Greys\")\n",
    "ax.set(\n",
    "    title=\"NAIP RGB Imagery - Band 1-Red\\nCold Springs Fire Scar\", xticks=[], yticks=[]\n",
    ")\n",
    "plt.show()"
   ]
  },
  {
   "cell_type": "code",
   "execution_count": null,
   "metadata": {},
   "outputs": [],
   "source": [
    "ep.plot_bands(naip_csf[1], figsize=(24, 12))"
   ]
  },
  {
   "cell_type": "code",
   "execution_count": null,
   "metadata": {},
   "outputs": [],
   "source": [
    "titles = [\n",
    "    \"Band 0 – Coastal aerosol\",\n",
    "    \"Band 1 –  Blue\",\n",
    "    \"Band 2 – Green\",\n",
    "    \"Band 3 – Red\",\n",
    "    \"Band 4 – Vegetation red edge – 704.1nm\",\n",
    "    \"Band 5 – Vegetation red edge – 740.5nm\",\n",
    "    \"Band 6 – Vegetation red edge – 782.8nm\",\n",
    "    \"Band 7 – NIR – 832.8nm\",\n",
    "    \"Band 8 – Narrow NIR – 864.7nm\",\n",
    "    \"Band 9 – Water vapour\",\n",
    "    \"Band 10 – SWIR – Cirrus\",\n",
    "    \"Band 11 – SWIR – 1613.7nm\",\n",
    "    \"Band 12 – SWIR – 2202.4nm\",\n",
    "]\n",
    "\n",
    "# plot all bands using the earthpy function\n",
    "ep.plot_bands(naip_csf, title=titles, figsize=(12, 10), cols=3)"
   ]
  },
  {
   "cell_type": "code",
   "execution_count": null,
   "metadata": {},
   "outputs": [],
   "source": [
    "ep.plot_rgb(naip_csf, title=\"RGB Image\", rgb=[3, 2, 1], figsize=(24, 12))"
   ]
  },
  {
   "cell_type": "code",
   "execution_count": null,
   "metadata": {},
   "outputs": [],
   "source": [
    "ep.plot_rgb(naip_csf, title=\"False Color Infrarred\", rgb=[6, 3, 2], figsize=(24, 12))"
   ]
  },
  {
   "cell_type": "code",
   "execution_count": null,
   "metadata": {},
   "outputs": [],
   "source": [
    "ep.plot_rgb(naip_csf, title=\"False Color Urban\", rgb=[12, 11, 4], figsize=(24, 12))"
   ]
  },
  {
   "cell_type": "code",
   "execution_count": null,
   "metadata": {},
   "outputs": [],
   "source": [
    "ep.plot_rgb(naip_csf, title=\"Atmoshpheric Penetration\", rgb=[7, 6, 5], figsize=(24, 12))"
   ]
  },
  {
   "cell_type": "code",
   "execution_count": null,
   "metadata": {},
   "outputs": [],
   "source": [
    "ep.plot_rgb(naip_csf, title=\"Healthy Vegetation\", rgb=[5, 6, 2], figsize=(24, 12))"
   ]
  },
  {
   "cell_type": "code",
   "execution_count": null,
   "metadata": {},
   "outputs": [],
   "source": [
    "ep.plot_rgb(naip_csf, title=\"Land Water\", rgb=[5, 6, 4], figsize=(24, 12))"
   ]
  },
  {
   "cell_type": "code",
   "execution_count": null,
   "metadata": {},
   "outputs": [],
   "source": [
    "ep.plot_rgb(naip_csf, title=\"Short Wave Infrarred\", rgb=[7, 5, 4], figsize=(24, 12))"
   ]
  },
  {
   "cell_type": "code",
   "execution_count": null,
   "metadata": {},
   "outputs": [],
   "source": [
    "ep.plot_rgb(naip_csf, title=\"Vegetation Analysis\", rgb=[6, 5, 4], figsize=(24, 12))"
   ]
  },
  {
   "cell_type": "code",
   "execution_count": null,
   "metadata": {},
   "outputs": [],
   "source": [
    "ep.plot_rgb(\n",
    "    naip_csf, title=\"Natural with Atmospheric Removal\", rgb=[7, 5, 3], figsize=(24, 12)\n",
    ")"
   ]
  },
  {
   "cell_type": "code",
   "execution_count": null,
   "metadata": {},
   "outputs": [],
   "source": [
    "sentinel2_ndvi = (naip_csf[7] - naip_csf[3]) / (naip_csf[7] + naip_csf[3])"
   ]
  },
  {
   "cell_type": "code",
   "execution_count": null,
   "metadata": {},
   "outputs": [],
   "source": [
    "# Plot NDVI data\n",
    "fig, ax = plt.subplots(figsize=(24, 12))\n",
    "ndvi = ax.imshow(sentinel2_ndvi, cmap=\"jet\", vmin=0, vmax=1)\n",
    "fig.colorbar(ndvi, fraction=0.05)\n",
    "ax.set(title=\"Sentinel 2 Derived NDVI\\n - San Diego California\")\n",
    "ax.set_axis_off()\n",
    "plt.show()"
   ]
  }
 ],
 "metadata": {
  "kernelspec": {
   "display_name": "Python 3",
   "language": "python",
   "name": "python3"
  },
  "language_info": {
   "codemirror_mode": {
    "name": "ipython",
    "version": 3
   },
   "file_extension": ".py",
   "mimetype": "text/x-python",
   "name": "python",
   "nbconvert_exporter": "python",
   "pygments_lexer": "ipython3",
   "version": "3.7.2"
  }
 },
 "nbformat": 4,
 "nbformat_minor": 2
}
