{
 "cells": [
  {
   "cell_type": "markdown",
   "metadata": {
    "extensions": {
     "jupyter_dashboards": {
      "version": 1,
      "views": {
       "grid_default": {},
       "report_default": {}
      }
     }
    },
    "scrolled": true
   },
   "source": [
    "# Searching and downloading imagery from Google Earth Engine API\n",
    "\n",
    "This notebook introduces you to the search and transfering data capabilities of GEE Python API\n",
    "\n",
    "* The notebook uses **geetools** (developed by Rodrigo E. Principe) to display search queries on a map GUI\n",
    "* It enables data **transfer** to a Google Cloud Bucket connected to the instance running the notebook\n",
    "\n"
   ]
  },
  {
   "cell_type": "code",
   "execution_count": 2,
   "metadata": {},
   "outputs": [
    {
     "data": {
      "application/vnd.jupyter.widget-view+json": {
       "model_id": "18e388d73f954f2b964ad51a40aa4a3e",
       "version_major": 2,
       "version_minor": 0
      },
      "text/plain": [
       "Map(basemap={'url': 'https://{s}.tile.openstreetmap.org/{z}/{x}/{y}.png', 'max_zoom': 19, 'attribution': 'Map …"
      ]
     },
     "metadata": {},
     "output_type": "display_data"
    },
    {
     "data": {
      "application/vnd.jupyter.widget-view+json": {
       "model_id": "00f25a34fd7e413db6ec3a9bb9a1eb48",
       "version_major": 2,
       "version_minor": 0
      },
      "text/plain": [
       "Tab(children=(CustomInspector(children=(SelectMultiple(options=OrderedDict(), value=()), Accordion(selected_in…"
      ]
     },
     "metadata": {},
     "output_type": "display_data"
    }
   ],
   "source": [
    "import ee\n",
    "from ee import batch\n",
    "from geetools import ui\n",
    "\n",
    "Map = ui.Map()\n",
    "Map.show()"
   ]
  },
  {
   "cell_type": "code",
   "execution_count": 14,
   "metadata": {
    "extensions": {
     "jupyter_dashboards": {
      "version": 1,
      "views": {
       "grid_default": {},
       "report_default": {}
      }
     }
    }
   },
   "outputs": [],
   "source": [
    "ee.Initialize()\n",
    "collection = ee.ImageCollection(\"COPERNICUS/S2\")\n",
    "## Define time range\n",
    "collection_time = collection.filterDate(\"201-01-01\", \"2019-01-01\")  # YYYY-MM-DD\n",
    "## Select location based on location of tile\n",
    "# or via geographical location:\n",
    "clip = ee.Geometry.Rectangle([37.0515, -2.8504, 37.6421, -3.3194])\n",
    "geometry = clip[\"coordinates\"][0]\n",
    "pathrow = collection_time.filterBounds(clip)\n",
    "## Select imagery with less then 5% of image covered by clouds\n",
    "clouds = pathrow.filter(ee.Filter.lt(\"CLOUDY_PIXEL_PERCENTAGE\", 5))\n",
    "## Select bands\n",
    "# bands = clouds.select(['B12','B11','B10','B9','B8','B8A','B7','B6','B5','B4','B3','B2','B1'])\n",
    "bands = clouds.select(\n",
    "    [\"B1\", \"B2\", \"B3\", \"B4\", \"B5\", \"B6\", \"B7\", \"B8\", \"B8A\", \"B9\", \"B10\", \"B11\", \"B12\"]\n",
    ")\n",
    "Map.addLayer(bands, {\"min\": 0.0, \"max\": 3000.0, \"gamma\": [0.95, 1.1, 1]})\n",
    "Map.centerObject(geometry, 9)"
   ]
  },
  {
   "cell_type": "code",
   "execution_count": 15,
   "metadata": {
    "extensions": {
     "jupyter_dashboards": {
      "version": 1,
      "views": {
       "grid_default": {},
       "report_default": {}
      }
     }
    }
   },
   "outputs": [
    {
     "name": "stdout",
     "output_type": "stream",
     "text": [
      "Export Image being submitted, please wait ...\n",
      "Process sent to the Cloud\n"
     ]
    }
   ],
   "source": [
    "print(\"Export Image being submitted, please wait ...\")\n",
    "\n",
    "ee.batch.Export.image.toCloudStorage(\n",
    "    image=bands.mean(),  ## mean is used here since we are trying to import a collection.\n",
    "    description=\"Kilimanjaro_All_Bands\",\n",
    "    bucket=\"agrosight1\",\n",
    "    scale=30,\n",
    "    maxPixels=1e9,\n",
    "    region=geometry,\n",
    ").start()\n",
    "\n",
    "print(\"Process sent to the Cloud\")"
   ]
  },
  {
   "cell_type": "code",
   "execution_count": null,
   "metadata": {
    "extensions": {
     "jupyter_dashboards": {
      "version": 1,
      "views": {
       "grid_default": {},
       "report_default": {}
      }
     }
    }
   },
   "outputs": [],
   "source": []
  },
  {
   "cell_type": "code",
   "execution_count": null,
   "metadata": {},
   "outputs": [],
   "source": []
  }
 ],
 "metadata": {
  "extensions": {
   "jupyter_dashboards": {
    "activeView": "grid_default",
    "version": 1,
    "views": {
     "grid_default": {
      "cellMargin": 10,
      "defaultCellHeight": 20,
      "maxColumns": 12,
      "name": "grid",
      "type": "grid"
     },
     "report_default": {
      "name": "report",
      "type": "report"
     }
    }
   }
  },
  "kernelspec": {
   "display_name": "Python 3",
   "language": "python",
   "name": "python3"
  },
  "language_info": {
   "codemirror_mode": {
    "name": "ipython",
    "version": 3
   },
   "file_extension": ".py",
   "mimetype": "text/x-python",
   "name": "python",
   "nbconvert_exporter": "python",
   "pygments_lexer": "ipython3",
   "version": "3.7.2"
  }
 },
 "nbformat": 4,
 "nbformat_minor": 2
}
